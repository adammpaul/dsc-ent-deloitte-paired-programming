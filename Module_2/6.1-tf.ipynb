{
 "cells": [
  {
   "cell_type": "markdown",
   "metadata": {
    "nbgrader": {
     "grade": false,
     "grade_id": "cell-a405f9c797c90edb",
     "locked": true,
     "schema_version": 3,
     "solution": false,
     "task": false
    }
   },
   "source": [
    "# TensorFlow Checkpoint\n",
    "\n",
    "This assessment covers building and training a `tf.keras` `Sequential` model, then applying regularization.  The dataset comes from a [\"don't overfit\" Kaggle competition](https://www.kaggle.com/c/dont-overfit-ii).  There are 300 features labeled 0-299, and a binary target called \"target\".  There are only 250 records total, meaning this is a very small dataset to be used with a neural network. \n",
    "\n",
    "_You can assume that the dataset has already been scaled._\n",
    "\n",
    "N.B. You may get comments from keras/ternsorflow regarding your kernel and runtime. These are completely normal and are informative comments, rather than warnings."
   ]
  },
  {
   "cell_type": "code",
   "execution_count": 4,
   "metadata": {},
   "outputs": [
    {
     "name": "stdout",
     "output_type": "stream",
     "text": [
      "Collecting tensorflow\n",
      "  Downloading tensorflow-2.17.0-cp312-cp312-win_amd64.whl.metadata (3.2 kB)\n",
      "Collecting tensorflow-intel==2.17.0 (from tensorflow)\n",
      "  Downloading tensorflow_intel-2.17.0-cp312-cp312-win_amd64.whl.metadata (5.0 kB)\n",
      "Collecting absl-py>=1.0.0 (from tensorflow-intel==2.17.0->tensorflow)\n",
      "  Downloading absl_py-2.1.0-py3-none-any.whl.metadata (2.3 kB)\n",
      "Collecting astunparse>=1.6.0 (from tensorflow-intel==2.17.0->tensorflow)\n",
      "  Downloading astunparse-1.6.3-py2.py3-none-any.whl.metadata (4.4 kB)\n",
      "Collecting flatbuffers>=24.3.25 (from tensorflow-intel==2.17.0->tensorflow)\n",
      "  Downloading flatbuffers-24.3.25-py2.py3-none-any.whl.metadata (850 bytes)\n",
      "Collecting gast!=0.5.0,!=0.5.1,!=0.5.2,>=0.2.1 (from tensorflow-intel==2.17.0->tensorflow)\n",
      "  Downloading gast-0.6.0-py3-none-any.whl.metadata (1.3 kB)\n",
      "Collecting google-pasta>=0.1.1 (from tensorflow-intel==2.17.0->tensorflow)\n",
      "  Downloading google_pasta-0.2.0-py3-none-any.whl.metadata (814 bytes)\n",
      "Requirement already satisfied: h5py>=3.10.0 in c:\\users\\adapaul\\appdata\\local\\anaconda3\\lib\\site-packages (from tensorflow-intel==2.17.0->tensorflow) (3.11.0)\n",
      "Collecting libclang>=13.0.0 (from tensorflow-intel==2.17.0->tensorflow)\n",
      "  Downloading libclang-18.1.1-py2.py3-none-win_amd64.whl.metadata (5.3 kB)\n",
      "Collecting ml-dtypes<0.5.0,>=0.3.1 (from tensorflow-intel==2.17.0->tensorflow)\n",
      "  Downloading ml_dtypes-0.4.1-cp312-cp312-win_amd64.whl.metadata (20 kB)\n",
      "Collecting opt-einsum>=2.3.2 (from tensorflow-intel==2.17.0->tensorflow)\n",
      "  Downloading opt_einsum-3.3.0-py3-none-any.whl.metadata (6.5 kB)\n",
      "Requirement already satisfied: packaging in c:\\users\\adapaul\\appdata\\local\\anaconda3\\lib\\site-packages (from tensorflow-intel==2.17.0->tensorflow) (23.2)\n",
      "Requirement already satisfied: protobuf!=4.21.0,!=4.21.1,!=4.21.2,!=4.21.3,!=4.21.4,!=4.21.5,<5.0.0dev,>=3.20.3 in c:\\users\\adapaul\\appdata\\local\\anaconda3\\lib\\site-packages (from tensorflow-intel==2.17.0->tensorflow) (3.20.3)\n",
      "Requirement already satisfied: requests<3,>=2.21.0 in c:\\users\\adapaul\\appdata\\local\\anaconda3\\lib\\site-packages (from tensorflow-intel==2.17.0->tensorflow) (2.32.2)\n",
      "Requirement already satisfied: setuptools in c:\\users\\adapaul\\appdata\\local\\anaconda3\\lib\\site-packages (from tensorflow-intel==2.17.0->tensorflow) (69.5.1)\n",
      "Requirement already satisfied: six>=1.12.0 in c:\\users\\adapaul\\appdata\\local\\anaconda3\\lib\\site-packages (from tensorflow-intel==2.17.0->tensorflow) (1.16.0)\n",
      "Collecting termcolor>=1.1.0 (from tensorflow-intel==2.17.0->tensorflow)\n",
      "  Downloading termcolor-2.4.0-py3-none-any.whl.metadata (6.1 kB)\n",
      "Requirement already satisfied: typing-extensions>=3.6.6 in c:\\users\\adapaul\\appdata\\local\\anaconda3\\lib\\site-packages (from tensorflow-intel==2.17.0->tensorflow) (4.11.0)\n",
      "Requirement already satisfied: wrapt>=1.11.0 in c:\\users\\adapaul\\appdata\\local\\anaconda3\\lib\\site-packages (from tensorflow-intel==2.17.0->tensorflow) (1.14.1)\n",
      "Collecting grpcio<2.0,>=1.24.3 (from tensorflow-intel==2.17.0->tensorflow)\n",
      "  Downloading grpcio-1.66.1-cp312-cp312-win_amd64.whl.metadata (4.0 kB)\n",
      "Collecting tensorboard<2.18,>=2.17 (from tensorflow-intel==2.17.0->tensorflow)\n",
      "  Downloading tensorboard-2.17.1-py3-none-any.whl.metadata (1.6 kB)\n",
      "Collecting keras>=3.2.0 (from tensorflow-intel==2.17.0->tensorflow)\n",
      "  Downloading keras-3.5.0-py3-none-any.whl.metadata (5.8 kB)\n",
      "Requirement already satisfied: numpy<2.0.0,>=1.26.0 in c:\\users\\adapaul\\appdata\\local\\anaconda3\\lib\\site-packages (from tensorflow-intel==2.17.0->tensorflow) (1.26.4)\n",
      "Requirement already satisfied: wheel<1.0,>=0.23.0 in c:\\users\\adapaul\\appdata\\local\\anaconda3\\lib\\site-packages (from astunparse>=1.6.0->tensorflow-intel==2.17.0->tensorflow) (0.43.0)\n",
      "Requirement already satisfied: rich in c:\\users\\adapaul\\appdata\\local\\anaconda3\\lib\\site-packages (from keras>=3.2.0->tensorflow-intel==2.17.0->tensorflow) (13.3.5)\n",
      "Collecting namex (from keras>=3.2.0->tensorflow-intel==2.17.0->tensorflow)\n",
      "  Downloading namex-0.0.8-py3-none-any.whl.metadata (246 bytes)\n",
      "Collecting optree (from keras>=3.2.0->tensorflow-intel==2.17.0->tensorflow)\n",
      "  Downloading optree-0.12.1-cp312-cp312-win_amd64.whl.metadata (48 kB)\n",
      "     ---------------------------------------- 0.0/48.7 kB ? eta -:--:--\n",
      "     --------------------------------- ------ 41.0/48.7 kB 1.9 MB/s eta 0:00:01\n",
      "     -------------------------------------- 48.7/48.7 kB 818.0 kB/s eta 0:00:00\n",
      "Requirement already satisfied: charset-normalizer<4,>=2 in c:\\users\\adapaul\\appdata\\local\\anaconda3\\lib\\site-packages (from requests<3,>=2.21.0->tensorflow-intel==2.17.0->tensorflow) (2.0.4)\n",
      "Requirement already satisfied: idna<4,>=2.5 in c:\\users\\adapaul\\appdata\\local\\anaconda3\\lib\\site-packages (from requests<3,>=2.21.0->tensorflow-intel==2.17.0->tensorflow) (3.7)\n",
      "Requirement already satisfied: urllib3<3,>=1.21.1 in c:\\users\\adapaul\\appdata\\local\\anaconda3\\lib\\site-packages (from requests<3,>=2.21.0->tensorflow-intel==2.17.0->tensorflow) (2.2.2)\n",
      "Requirement already satisfied: certifi>=2017.4.17 in c:\\users\\adapaul\\appdata\\local\\anaconda3\\lib\\site-packages (from requests<3,>=2.21.0->tensorflow-intel==2.17.0->tensorflow) (2024.7.4)\n",
      "Requirement already satisfied: markdown>=2.6.8 in c:\\users\\adapaul\\appdata\\local\\anaconda3\\lib\\site-packages (from tensorboard<2.18,>=2.17->tensorflow-intel==2.17.0->tensorflow) (3.4.1)\n",
      "Collecting tensorboard-data-server<0.8.0,>=0.7.0 (from tensorboard<2.18,>=2.17->tensorflow-intel==2.17.0->tensorflow)\n",
      "  Downloading tensorboard_data_server-0.7.2-py3-none-any.whl.metadata (1.1 kB)\n",
      "Requirement already satisfied: werkzeug>=1.0.1 in c:\\users\\adapaul\\appdata\\local\\anaconda3\\lib\\site-packages (from tensorboard<2.18,>=2.17->tensorflow-intel==2.17.0->tensorflow) (3.0.3)\n",
      "Requirement already satisfied: MarkupSafe>=2.1.1 in c:\\users\\adapaul\\appdata\\local\\anaconda3\\lib\\site-packages (from werkzeug>=1.0.1->tensorboard<2.18,>=2.17->tensorflow-intel==2.17.0->tensorflow) (2.1.3)\n",
      "Requirement already satisfied: markdown-it-py<3.0.0,>=2.2.0 in c:\\users\\adapaul\\appdata\\local\\anaconda3\\lib\\site-packages (from rich->keras>=3.2.0->tensorflow-intel==2.17.0->tensorflow) (2.2.0)\n",
      "Requirement already satisfied: pygments<3.0.0,>=2.13.0 in c:\\users\\adapaul\\appdata\\local\\anaconda3\\lib\\site-packages (from rich->keras>=3.2.0->tensorflow-intel==2.17.0->tensorflow) (2.15.1)\n",
      "Requirement already satisfied: mdurl~=0.1 in c:\\users\\adapaul\\appdata\\local\\anaconda3\\lib\\site-packages (from markdown-it-py<3.0.0,>=2.2.0->rich->keras>=3.2.0->tensorflow-intel==2.17.0->tensorflow) (0.1.0)\n",
      "Downloading tensorflow-2.17.0-cp312-cp312-win_amd64.whl (2.0 kB)\n",
      "Downloading tensorflow_intel-2.17.0-cp312-cp312-win_amd64.whl (385.2 MB)\n",
      "   ---------------------------------------- 0.0/385.2 MB ? eta -:--:--\n",
      "   ---------------------------------------- 0.3/385.2 MB 8.9 MB/s eta 0:00:44\n",
      "   ---------------------------------------- 0.8/385.2 MB 10.1 MB/s eta 0:00:39\n",
      "   ---------------------------------------- 2.0/385.2 MB 14.0 MB/s eta 0:00:28\n",
      "   ---------------------------------------- 4.3/385.2 MB 22.9 MB/s eta 0:00:17\n",
      "    --------------------------------------- 7.0/385.2 MB 29.9 MB/s eta 0:00:13\n",
      "    --------------------------------------- 8.4/385.2 MB 29.8 MB/s eta 0:00:13\n",
      "   - -------------------------------------- 9.9/385.2 MB 31.7 MB/s eta 0:00:12\n",
      "   - -------------------------------------- 12.5/385.2 MB 43.7 MB/s eta 0:00:09\n",
      "   - -------------------------------------- 15.3/385.2 MB 46.7 MB/s eta 0:00:08\n",
      "   - -------------------------------------- 17.7/385.2 MB 46.9 MB/s eta 0:00:08\n",
      "   -- ------------------------------------- 20.6/385.2 MB 59.5 MB/s eta 0:00:07\n",
      "   -- ------------------------------------- 22.8/385.2 MB 59.5 MB/s eta 0:00:07\n",
      "   -- ------------------------------------- 25.1/385.2 MB 54.4 MB/s eta 0:00:07\n",
      "   -- ------------------------------------- 27.4/385.2 MB 54.4 MB/s eta 0:00:07\n",
      "   --- ------------------------------------ 30.1/385.2 MB 54.4 MB/s eta 0:00:07\n",
      "   --- ------------------------------------ 32.2/385.2 MB 50.1 MB/s eta 0:00:08\n",
      "   --- ------------------------------------ 33.9/385.2 MB 50.4 MB/s eta 0:00:07\n",
      "   --- ------------------------------------ 36.5/385.2 MB 50.4 MB/s eta 0:00:07\n",
      "   ---- ----------------------------------- 38.7/385.2 MB 50.4 MB/s eta 0:00:07\n",
      "   ---- ----------------------------------- 41.2/385.2 MB 50.4 MB/s eta 0:00:07\n",
      "   ---- ----------------------------------- 43.1/385.2 MB 50.4 MB/s eta 0:00:07\n",
      "   ---- ----------------------------------- 45.4/385.2 MB 50.4 MB/s eta 0:00:07\n",
      "   ---- ----------------------------------- 47.6/385.2 MB 46.7 MB/s eta 0:00:08\n",
      "   ----- ---------------------------------- 49.9/385.2 MB 46.7 MB/s eta 0:00:08\n",
      "   ----- ---------------------------------- 52.4/385.2 MB 46.9 MB/s eta 0:00:08\n",
      "   ----- ---------------------------------- 55.6/385.2 MB 54.7 MB/s eta 0:00:07\n",
      "   ----- ---------------------------------- 57.7/385.2 MB 54.7 MB/s eta 0:00:06\n",
      "   ------ --------------------------------- 60.0/385.2 MB 54.7 MB/s eta 0:00:06\n",
      "   ------ --------------------------------- 62.0/385.2 MB 50.4 MB/s eta 0:00:07\n",
      "   ------ --------------------------------- 64.1/385.2 MB 50.4 MB/s eta 0:00:07\n",
      "   ------ --------------------------------- 67.2/385.2 MB 50.4 MB/s eta 0:00:07\n",
      "   ------- -------------------------------- 69.4/385.2 MB 50.1 MB/s eta 0:00:07\n",
      "   ------- -------------------------------- 70.9/385.2 MB 46.9 MB/s eta 0:00:07\n",
      "   ------- -------------------------------- 72.8/385.2 MB 46.9 MB/s eta 0:00:07\n",
      "   ------- -------------------------------- 75.7/385.2 MB 46.7 MB/s eta 0:00:07\n",
      "   -------- ------------------------------- 77.7/385.2 MB 43.7 MB/s eta 0:00:08\n",
      "   -------- ------------------------------- 79.9/385.2 MB 43.7 MB/s eta 0:00:07\n",
      "   -------- ------------------------------- 81.8/385.2 MB 46.7 MB/s eta 0:00:07\n",
      "   -------- ------------------------------- 83.8/385.2 MB 46.7 MB/s eta 0:00:07\n",
      "   -------- ------------------------------- 86.1/385.2 MB 40.9 MB/s eta 0:00:08\n",
      "   --------- ------------------------------ 88.1/385.2 MB 38.5 MB/s eta 0:00:08\n",
      "   --------- ------------------------------ 91.5/385.2 MB 43.5 MB/s eta 0:00:07\n",
      "   --------- ------------------------------ 94.8/385.2 MB 46.9 MB/s eta 0:00:07\n",
      "   ---------- ----------------------------- 98.3/385.2 MB 73.1 MB/s eta 0:00:04\n",
      "   ---------- ----------------------------- 99.6/385.2 MB 59.5 MB/s eta 0:00:05\n",
      "   ---------- ---------------------------- 100.7/385.2 MB 50.4 MB/s eta 0:00:06\n",
      "   ---------- ---------------------------- 101.7/385.2 MB 43.7 MB/s eta 0:00:07\n",
      "   ---------- ---------------------------- 103.0/385.2 MB 38.5 MB/s eta 0:00:08\n",
      "   ---------- ---------------------------- 105.5/385.2 MB 36.3 MB/s eta 0:00:08\n",
      "   ---------- ---------------------------- 106.6/385.2 MB 32.7 MB/s eta 0:00:09\n",
      "   ---------- ---------------------------- 107.7/385.2 MB 28.5 MB/s eta 0:00:10\n",
      "   ----------- --------------------------- 109.0/385.2 MB 27.3 MB/s eta 0:00:11\n",
      "   ----------- --------------------------- 111.4/385.2 MB 31.2 MB/s eta 0:00:09\n",
      "   ----------- --------------------------- 113.4/385.2 MB 34.4 MB/s eta 0:00:08\n",
      "   ----------- --------------------------- 116.5/385.2 MB 38.5 MB/s eta 0:00:07\n",
      "   ------------ -------------------------- 120.2/385.2 MB 59.8 MB/s eta 0:00:05\n",
      "   ------------ -------------------------- 123.5/385.2 MB 73.1 MB/s eta 0:00:04\n",
      "   ------------ -------------------------- 127.2/385.2 MB 73.1 MB/s eta 0:00:04\n",
      "   ------------- ------------------------- 130.0/385.2 MB 65.6 MB/s eta 0:00:04\n",
      "   ------------- ------------------------- 133.4/385.2 MB 65.6 MB/s eta 0:00:04\n",
      "   ------------- ------------------------- 136.3/385.2 MB 65.6 MB/s eta 0:00:04\n",
      "   -------------- ------------------------ 139.1/385.2 MB 59.5 MB/s eta 0:00:05\n",
      "   -------------- ------------------------ 141.5/385.2 MB 59.5 MB/s eta 0:00:05\n",
      "   -------------- ------------------------ 144.5/385.2 MB 59.8 MB/s eta 0:00:05\n",
      "   -------------- ------------------------ 147.3/385.2 MB 59.5 MB/s eta 0:00:04\n",
      "   --------------- ----------------------- 150.6/385.2 MB 65.2 MB/s eta 0:00:04\n",
      "   --------------- ----------------------- 152.9/385.2 MB 65.6 MB/s eta 0:00:04\n",
      "   --------------- ----------------------- 156.0/385.2 MB 65.6 MB/s eta 0:00:04\n",
      "   ---------------- ---------------------- 159.3/385.2 MB 65.6 MB/s eta 0:00:04\n",
      "   ---------------- ---------------------- 162.6/385.2 MB 65.2 MB/s eta 0:00:04\n",
      "   ---------------- ---------------------- 166.5/385.2 MB 72.6 MB/s eta 0:00:04\n",
      "   ----------------- --------------------- 168.8/385.2 MB 65.6 MB/s eta 0:00:04\n",
      "   ----------------- --------------------- 172.3/385.2 MB 72.6 MB/s eta 0:00:03\n",
      "   ----------------- --------------------- 174.7/385.2 MB 59.5 MB/s eta 0:00:04\n",
      "   ----------------- --------------------- 176.0/385.2 MB 54.7 MB/s eta 0:00:04\n",
      "   ----------------- --------------------- 177.6/385.2 MB 50.4 MB/s eta 0:00:05\n",
      "   ------------------ -------------------- 180.3/385.2 MB 46.7 MB/s eta 0:00:05\n",
      "   ------------------ -------------------- 182.1/385.2 MB 43.7 MB/s eta 0:00:05\n",
      "   ------------------ -------------------- 184.9/385.2 MB 50.4 MB/s eta 0:00:04\n",
      "   ------------------- ------------------- 188.0/385.2 MB 65.6 MB/s eta 0:00:04\n",
      "   ------------------- ------------------- 191.5/385.2 MB 65.6 MB/s eta 0:00:03\n",
      "   ------------------- ------------------- 194.5/385.2 MB 72.6 MB/s eta 0:00:03\n",
      "   -------------------- ------------------ 197.7/385.2 MB 72.6 MB/s eta 0:00:03\n",
      "   -------------------- ------------------ 201.3/385.2 MB 72.6 MB/s eta 0:00:03\n",
      "   -------------------- ------------------ 204.2/385.2 MB 65.2 MB/s eta 0:00:03\n",
      "   -------------------- ------------------ 206.5/385.2 MB 65.6 MB/s eta 0:00:03\n",
      "   --------------------- ----------------- 210.5/385.2 MB 65.6 MB/s eta 0:00:03\n",
      "   --------------------- ----------------- 212.9/385.2 MB 65.6 MB/s eta 0:00:03\n",
      "   --------------------- ----------------- 215.8/385.2 MB 65.6 MB/s eta 0:00:03\n",
      "   ---------------------- ---------------- 218.7/385.2 MB 65.6 MB/s eta 0:00:03\n",
      "   ---------------------- ---------------- 221.3/385.2 MB 59.5 MB/s eta 0:00:03\n",
      "   ---------------------- ---------------- 225.1/385.2 MB 65.2 MB/s eta 0:00:03\n",
      "   ----------------------- --------------- 227.7/385.2 MB 65.2 MB/s eta 0:00:03\n",
      "   ----------------------- --------------- 229.4/385.2 MB 59.8 MB/s eta 0:00:03\n",
      "   ----------------------- --------------- 232.3/385.2 MB 59.5 MB/s eta 0:00:03\n",
      "   ----------------------- --------------- 235.3/385.2 MB 54.7 MB/s eta 0:00:03\n",
      "   ------------------------ -------------- 238.4/385.2 MB 59.5 MB/s eta 0:00:03\n",
      "   ------------------------ -------------- 241.1/385.2 MB 59.5 MB/s eta 0:00:03\n",
      "   ------------------------ -------------- 244.2/385.2 MB 65.6 MB/s eta 0:00:03\n",
      "   ------------------------- ------------- 247.7/385.2 MB 65.2 MB/s eta 0:00:03\n",
      "   ------------------------- ------------- 250.9/385.2 MB 72.6 MB/s eta 0:00:02\n",
      "   ------------------------- ------------- 253.8/385.2 MB 65.6 MB/s eta 0:00:03\n",
      "   ------------------------- ------------- 255.9/385.2 MB 59.5 MB/s eta 0:00:03\n",
      "   -------------------------- ------------ 257.7/385.2 MB 54.7 MB/s eta 0:00:03\n",
      "   -------------------------- ------------ 259.4/385.2 MB 46.7 MB/s eta 0:00:03\n",
      "   -------------------------- ------------ 261.1/385.2 MB 43.7 MB/s eta 0:00:03\n",
      "   -------------------------- ------------ 264.6/385.2 MB 46.7 MB/s eta 0:00:03\n",
      "   --------------------------- ----------- 267.7/385.2 MB 54.4 MB/s eta 0:00:03\n",
      "   --------------------------- ----------- 271.1/385.2 MB 72.6 MB/s eta 0:00:02\n",
      "   --------------------------- ----------- 275.3/385.2 MB 81.8 MB/s eta 0:00:02\n",
      "   ---------------------------- ---------- 278.3/385.2 MB 81.8 MB/s eta 0:00:02\n",
      "   ---------------------------- ---------- 280.8/385.2 MB 72.6 MB/s eta 0:00:02\n",
      "   ---------------------------- ---------- 284.0/385.2 MB 65.6 MB/s eta 0:00:02\n",
      "   ----------------------------- --------- 287.1/385.2 MB 65.6 MB/s eta 0:00:02\n",
      "   ----------------------------- --------- 290.3/385.2 MB 65.6 MB/s eta 0:00:02\n",
      "   ----------------------------- --------- 294.3/385.2 MB 81.8 MB/s eta 0:00:02\n",
      "   ------------------------------ -------- 298.1/385.2 MB 81.8 MB/s eta 0:00:02\n",
      "   ------------------------------ -------- 301.7/385.2 MB 81.8 MB/s eta 0:00:02\n",
      "   ------------------------------ -------- 305.7/385.2 MB 81.8 MB/s eta 0:00:01\n",
      "   ------------------------------- ------- 309.1/385.2 MB 81.8 MB/s eta 0:00:01\n",
      "   ------------------------------- ------- 312.8/385.2 MB 81.8 MB/s eta 0:00:01\n",
      "   -------------------------------- ------ 316.6/385.2 MB 81.8 MB/s eta 0:00:01\n",
      "   -------------------------------- ------ 318.7/385.2 MB 73.1 MB/s eta 0:00:01\n",
      "   -------------------------------- ------ 322.8/385.2 MB 72.6 MB/s eta 0:00:01\n",
      "   --------------------------------- ----- 326.4/385.2 MB 72.6 MB/s eta 0:00:01\n",
      "   --------------------------------- ----- 329.6/385.2 MB 81.8 MB/s eta 0:00:01\n",
      "   --------------------------------- ----- 333.4/385.2 MB 72.6 MB/s eta 0:00:01\n",
      "   ---------------------------------- ---- 336.7/385.2 MB 72.6 MB/s eta 0:00:01\n",
      "   ---------------------------------- ---- 341.5/385.2 MB 81.8 MB/s eta 0:00:01\n",
      "   ----------------------------------- --- 346.2/385.2 MB 93.9 MB/s eta 0:00:01\n",
      "   ----------------------------------- --- 350.6/385.2 MB 93.9 MB/s eta 0:00:01\n",
      "   ----------------------------------- --- 354.7/385.2 MB 93.9 MB/s eta 0:00:01\n",
      "   ------------------------------------ -- 357.4/385.2 MB 81.8 MB/s eta 0:00:01\n",
      "   ------------------------------------ -- 361.3/385.2 MB 72.6 MB/s eta 0:00:01\n",
      "   ------------------------------------ -- 363.8/385.2 MB 65.2 MB/s eta 0:00:01\n",
      "   ------------------------------------ -- 365.2/385.2 MB 54.4 MB/s eta 0:00:01\n",
      "   ------------------------------------- - 367.1/385.2 MB 50.4 MB/s eta 0:00:01\n",
      "   ------------------------------------- - 369.9/385.2 MB 50.4 MB/s eta 0:00:01\n",
      "   ------------------------------------- - 373.6/385.2 MB 50.4 MB/s eta 0:00:01\n",
      "   --------------------------------------  375.7/385.2 MB 59.5 MB/s eta 0:00:01\n",
      "   --------------------------------------  377.9/385.2 MB 65.6 MB/s eta 0:00:01\n",
      "   --------------------------------------  381.4/385.2 MB 65.6 MB/s eta 0:00:01\n",
      "   --------------------------------------  384.3/385.2 MB 59.5 MB/s eta 0:00:01\n",
      "   --------------------------------------  385.1/385.2 MB 59.5 MB/s eta 0:00:01\n",
      "   --------------------------------------  385.1/385.2 MB 59.5 MB/s eta 0:00:01\n",
      "   --------------------------------------  385.1/385.2 MB 59.5 MB/s eta 0:00:01\n",
      "   --------------------------------------  385.1/385.2 MB 59.5 MB/s eta 0:00:01\n",
      "   --------------------------------------  385.1/385.2 MB 59.5 MB/s eta 0:00:01\n",
      "   --------------------------------------  385.1/385.2 MB 59.5 MB/s eta 0:00:01\n",
      "   --------------------------------------  385.1/385.2 MB 59.5 MB/s eta 0:00:01\n",
      "   --------------------------------------  385.1/385.2 MB 59.5 MB/s eta 0:00:01\n",
      "   --------------------------------------  385.1/385.2 MB 59.5 MB/s eta 0:00:01\n",
      "   --------------------------------------  385.1/385.2 MB 59.5 MB/s eta 0:00:01\n",
      "   --------------------------------------  385.1/385.2 MB 59.5 MB/s eta 0:00:01\n",
      "   --------------------------------------  385.1/385.2 MB 59.5 MB/s eta 0:00:01\n",
      "   --------------------------------------  385.1/385.2 MB 59.5 MB/s eta 0:00:01\n",
      "   --------------------------------------  385.1/385.2 MB 59.5 MB/s eta 0:00:01\n",
      "   --------------------------------------  385.1/385.2 MB 59.5 MB/s eta 0:00:01\n",
      "   --------------------------------------  385.1/385.2 MB 59.5 MB/s eta 0:00:01\n",
      "   --------------------------------------  385.1/385.2 MB 59.5 MB/s eta 0:00:01\n",
      "   --------------------------------------  385.1/385.2 MB 59.5 MB/s eta 0:00:01\n",
      "   --------------------------------------  385.1/385.2 MB 59.5 MB/s eta 0:00:01\n",
      "   ---------------------------------------- 385.2/385.2 MB 9.3 MB/s eta 0:00:00\n",
      "Downloading absl_py-2.1.0-py3-none-any.whl (133 kB)\n",
      "   ---------------------------------------- 0.0/133.7 kB ? eta -:--:--\n",
      "   ---------------------------------------- 133.7/133.7 kB 7.7 MB/s eta 0:00:00\n",
      "Downloading astunparse-1.6.3-py2.py3-none-any.whl (12 kB)\n",
      "Downloading flatbuffers-24.3.25-py2.py3-none-any.whl (26 kB)\n",
      "Downloading gast-0.6.0-py3-none-any.whl (21 kB)\n",
      "Downloading google_pasta-0.2.0-py3-none-any.whl (57 kB)\n",
      "   ---------------------------------------- 0.0/57.5 kB ? eta -:--:--\n",
      "   ---------------------------------------- 57.5/57.5 kB 3.1 MB/s eta 0:00:00\n",
      "Downloading grpcio-1.66.1-cp312-cp312-win_amd64.whl (4.3 MB)\n",
      "   ---------------------------------------- 0.0/4.3 MB ? eta -:--:--\n",
      "   ------------------ --------------------- 2.0/4.3 MB 41.6 MB/s eta 0:00:01\n",
      "   ---------------------------------------  4.3/4.3 MB 54.6 MB/s eta 0:00:01\n",
      "   ---------------------------------------- 4.3/4.3 MB 45.4 MB/s eta 0:00:00\n",
      "Downloading keras-3.5.0-py3-none-any.whl (1.1 MB)\n",
      "   ---------------------------------------- 0.0/1.1 MB ? eta -:--:--\n",
      "   ---------------------------------------  1.1/1.1 MB 35.2 MB/s eta 0:00:01\n",
      "   ---------------------------------------- 1.1/1.1 MB 24.2 MB/s eta 0:00:00\n",
      "Downloading libclang-18.1.1-py2.py3-none-win_amd64.whl (26.4 MB)\n",
      "   ---------------------------------------- 0.0/26.4 MB ? eta -:--:--\n",
      "   ---- ----------------------------------- 2.8/26.4 MB 58.8 MB/s eta 0:00:01\n",
      "   -------- ------------------------------- 5.8/26.4 MB 62.0 MB/s eta 0:00:01\n",
      "   ----------- ---------------------------- 7.9/26.4 MB 71.8 MB/s eta 0:00:01\n",
      "   ----------- ---------------------------- 7.9/26.4 MB 71.8 MB/s eta 0:00:01\n",
      "   ----------- ---------------------------- 7.9/26.4 MB 71.8 MB/s eta 0:00:01\n",
      "   ------------ --------------------------- 8.1/26.4 MB 28.8 MB/s eta 0:00:01\n",
      "   ------------ --------------------------- 8.3/26.4 MB 26.5 MB/s eta 0:00:01\n",
      "   ------------- -------------------------- 8.8/26.4 MB 23.5 MB/s eta 0:00:01\n",
      "   ------------- -------------------------- 8.8/26.4 MB 23.5 MB/s eta 0:00:01\n",
      "   ------------- -------------------------- 8.8/26.4 MB 23.5 MB/s eta 0:00:01\n",
      "   ------------- -------------------------- 8.8/26.4 MB 23.5 MB/s eta 0:00:01\n",
      "   ------------- -------------------------- 8.8/26.4 MB 23.5 MB/s eta 0:00:01\n",
      "   ------------- -------------------------- 8.8/26.4 MB 23.5 MB/s eta 0:00:01\n",
      "   ------------- -------------------------- 8.8/26.4 MB 23.5 MB/s eta 0:00:01\n",
      "   ------------- -------------------------- 8.8/26.4 MB 23.5 MB/s eta 0:00:01\n",
      "   ------------- -------------------------- 8.8/26.4 MB 23.5 MB/s eta 0:00:01\n",
      "   ------------- -------------------------- 8.8/26.4 MB 23.5 MB/s eta 0:00:01\n",
      "   ------------- -------------------------- 8.8/26.4 MB 23.5 MB/s eta 0:00:01\n",
      "   ------------- -------------------------- 8.8/26.4 MB 23.5 MB/s eta 0:00:01\n",
      "   ------------- -------------------------- 8.8/26.4 MB 23.5 MB/s eta 0:00:01\n",
      "   ------------- -------------------------- 8.8/26.4 MB 23.5 MB/s eta 0:00:01\n",
      "   ------------- -------------------------- 8.9/26.4 MB 8.6 MB/s eta 0:00:03\n",
      "   ------------- -------------------------- 9.2/26.4 MB 8.9 MB/s eta 0:00:02\n",
      "   -------------- ------------------------- 9.4/26.4 MB 8.5 MB/s eta 0:00:03\n",
      "   --------------- ------------------------ 10.1/26.4 MB 8.7 MB/s eta 0:00:02\n",
      "   --------------- ------------------------ 10.5/26.4 MB 8.5 MB/s eta 0:00:02\n",
      "   ----------------- ---------------------- 11.6/26.4 MB 8.2 MB/s eta 0:00:02\n",
      "   ------------------ --------------------- 12.5/26.4 MB 8.1 MB/s eta 0:00:02\n",
      "   -------------------- ------------------- 13.5/26.4 MB 8.0 MB/s eta 0:00:02\n",
      "   --------------------- ------------------ 14.3/26.4 MB 7.7 MB/s eta 0:00:02\n",
      "   --------------------- ------------------ 14.4/26.4 MB 7.4 MB/s eta 0:00:02\n",
      "   ---------------------- ----------------- 14.9/26.4 MB 7.4 MB/s eta 0:00:02\n",
      "   ----------------------- ---------------- 15.8/26.4 MB 7.0 MB/s eta 0:00:02\n",
      "   ------------------------- -------------- 16.9/26.4 MB 6.9 MB/s eta 0:00:02\n",
      "   -------------------------- ------------- 17.4/26.4 MB 6.8 MB/s eta 0:00:02\n",
      "   ---------------------------- ----------- 19.1/26.4 MB 16.0 MB/s eta 0:00:01\n",
      "   ----------------------------- ---------- 19.4/26.4 MB 16.0 MB/s eta 0:00:01\n",
      "   ------------------------------ --------- 19.9/26.4 MB 16.8 MB/s eta 0:00:01\n",
      "   ------------------------------- -------- 20.8/26.4 MB 17.7 MB/s eta 0:00:01\n",
      "   -------------------------------- ------- 21.3/26.4 MB 16.4 MB/s eta 0:00:01\n",
      "   ---------------------------------- ----- 22.6/26.4 MB 16.8 MB/s eta 0:00:01\n",
      "   -------------------------------------- - 25.2/26.4 MB 23.4 MB/s eta 0:00:01\n",
      "   ---------------------------------------  26.4/26.4 MB 23.4 MB/s eta 0:00:01\n",
      "   ---------------------------------------  26.4/26.4 MB 23.4 MB/s eta 0:00:01\n",
      "   ---------------------------------------- 26.4/26.4 MB 20.5 MB/s eta 0:00:00\n",
      "Downloading ml_dtypes-0.4.1-cp312-cp312-win_amd64.whl (127 kB)\n",
      "   ---------------------------------------- 0.0/127.5 kB ? eta -:--:--\n",
      "   ---------------------------------------- 127.5/127.5 kB ? eta 0:00:00\n",
      "Downloading opt_einsum-3.3.0-py3-none-any.whl (65 kB)\n",
      "   ---------------------------------------- 0.0/65.5 kB ? eta -:--:--\n",
      "   ---------------------------------------- 65.5/65.5 kB 3.7 MB/s eta 0:00:00\n",
      "Downloading tensorboard-2.17.1-py3-none-any.whl (5.5 MB)\n",
      "   ---------------------------------------- 0.0/5.5 MB ? eta -:--:--\n",
      "   -------------------------- ------------- 3.6/5.5 MB 77.1 MB/s eta 0:00:01\n",
      "   -------------------------- ------------- 3.6/5.5 MB 77.1 MB/s eta 0:00:01\n",
      "   --------------------------- ------------ 3.8/5.5 MB 26.7 MB/s eta 0:00:01\n",
      "   --------------------------- ------------ 3.8/5.5 MB 24.4 MB/s eta 0:00:01\n",
      "   ----------------------------- ---------- 4.0/5.5 MB 18.4 MB/s eta 0:00:01\n",
      "   ------------------------------- -------- 4.3/5.5 MB 16.1 MB/s eta 0:00:01\n",
      "   --------------------------------- ------ 4.5/5.5 MB 14.5 MB/s eta 0:00:01\n",
      "   ----------------------------------- ---- 4.8/5.5 MB 13.4 MB/s eta 0:00:01\n",
      "   ------------------------------------- -- 5.1/5.5 MB 12.6 MB/s eta 0:00:01\n",
      "   -------------------------------------- - 5.3/5.5 MB 11.6 MB/s eta 0:00:01\n",
      "   ---------------------------------------- 5.5/5.5 MB 11.0 MB/s eta 0:00:00\n",
      "Downloading termcolor-2.4.0-py3-none-any.whl (7.7 kB)\n",
      "Downloading tensorboard_data_server-0.7.2-py3-none-any.whl (2.4 kB)\n",
      "Downloading namex-0.0.8-py3-none-any.whl (5.8 kB)\n",
      "Downloading optree-0.12.1-cp312-cp312-win_amd64.whl (267 kB)\n",
      "   ---------------------------------------- 0.0/267.2 kB ? eta -:--:--\n",
      "   --------------------------------------- 267.2/267.2 kB 16.1 MB/s eta 0:00:00\n",
      "Installing collected packages: namex, libclang, flatbuffers, termcolor, tensorboard-data-server, optree, opt-einsum, ml-dtypes, grpcio, google-pasta, gast, astunparse, absl-py, tensorboard, keras, tensorflow-intel, tensorflow\n",
      "Successfully installed absl-py-2.1.0 astunparse-1.6.3 flatbuffers-24.3.25 gast-0.6.0 google-pasta-0.2.0 grpcio-1.66.1 keras-3.5.0 libclang-18.1.1 ml-dtypes-0.4.1 namex-0.0.8 opt-einsum-3.3.0 optree-0.12.1 tensorboard-2.17.1 tensorboard-data-server-0.7.2 tensorflow-2.17.0 tensorflow-intel-2.17.0 termcolor-2.4.0\n"
     ]
    }
   ],
   "source": [
    "!pip install tensorflow"
   ]
  },
  {
   "cell_type": "code",
   "execution_count": 10,
   "metadata": {},
   "outputs": [
    {
     "name": "stdout",
     "output_type": "stream",
     "text": [
      "Collecting scikeras\n",
      "  Downloading scikeras-0.13.0-py3-none-any.whl.metadata (3.1 kB)\n",
      "Requirement already satisfied: keras>=3.2.0 in c:\\users\\adapaul\\appdata\\local\\anaconda3\\lib\\site-packages (from scikeras) (3.5.0)\n",
      "Requirement already satisfied: scikit-learn>=1.4.2 in c:\\users\\adapaul\\appdata\\local\\anaconda3\\lib\\site-packages (from scikeras) (1.4.2)\n",
      "Requirement already satisfied: absl-py in c:\\users\\adapaul\\appdata\\local\\anaconda3\\lib\\site-packages (from keras>=3.2.0->scikeras) (2.1.0)\n",
      "Requirement already satisfied: numpy in c:\\users\\adapaul\\appdata\\local\\anaconda3\\lib\\site-packages (from keras>=3.2.0->scikeras) (1.26.4)\n",
      "Requirement already satisfied: rich in c:\\users\\adapaul\\appdata\\local\\anaconda3\\lib\\site-packages (from keras>=3.2.0->scikeras) (13.3.5)\n",
      "Requirement already satisfied: namex in c:\\users\\adapaul\\appdata\\local\\anaconda3\\lib\\site-packages (from keras>=3.2.0->scikeras) (0.0.8)\n",
      "Requirement already satisfied: h5py in c:\\users\\adapaul\\appdata\\local\\anaconda3\\lib\\site-packages (from keras>=3.2.0->scikeras) (3.11.0)\n",
      "Requirement already satisfied: optree in c:\\users\\adapaul\\appdata\\local\\anaconda3\\lib\\site-packages (from keras>=3.2.0->scikeras) (0.12.1)\n",
      "Requirement already satisfied: ml-dtypes in c:\\users\\adapaul\\appdata\\local\\anaconda3\\lib\\site-packages (from keras>=3.2.0->scikeras) (0.4.1)\n",
      "Requirement already satisfied: packaging in c:\\users\\adapaul\\appdata\\local\\anaconda3\\lib\\site-packages (from keras>=3.2.0->scikeras) (23.2)\n",
      "Requirement already satisfied: scipy>=1.6.0 in c:\\users\\adapaul\\appdata\\local\\anaconda3\\lib\\site-packages (from scikit-learn>=1.4.2->scikeras) (1.13.1)\n",
      "Requirement already satisfied: joblib>=1.2.0 in c:\\users\\adapaul\\appdata\\local\\anaconda3\\lib\\site-packages (from scikit-learn>=1.4.2->scikeras) (1.4.2)\n",
      "Requirement already satisfied: threadpoolctl>=2.0.0 in c:\\users\\adapaul\\appdata\\local\\anaconda3\\lib\\site-packages (from scikit-learn>=1.4.2->scikeras) (2.2.0)\n",
      "Requirement already satisfied: typing-extensions>=4.5.0 in c:\\users\\adapaul\\appdata\\local\\anaconda3\\lib\\site-packages (from optree->keras>=3.2.0->scikeras) (4.11.0)\n",
      "Requirement already satisfied: markdown-it-py<3.0.0,>=2.2.0 in c:\\users\\adapaul\\appdata\\local\\anaconda3\\lib\\site-packages (from rich->keras>=3.2.0->scikeras) (2.2.0)\n",
      "Requirement already satisfied: pygments<3.0.0,>=2.13.0 in c:\\users\\adapaul\\appdata\\local\\anaconda3\\lib\\site-packages (from rich->keras>=3.2.0->scikeras) (2.15.1)\n",
      "Requirement already satisfied: mdurl~=0.1 in c:\\users\\adapaul\\appdata\\local\\anaconda3\\lib\\site-packages (from markdown-it-py<3.0.0,>=2.2.0->rich->keras>=3.2.0->scikeras) (0.1.0)\n",
      "Downloading scikeras-0.13.0-py3-none-any.whl (26 kB)\n",
      "Installing collected packages: scikeras\n",
      "Successfully installed scikeras-0.13.0\n"
     ]
    }
   ],
   "source": [
    "!pip install scikeras"
   ]
  },
  {
   "cell_type": "code",
   "execution_count": 12,
   "metadata": {
    "ExecuteTime": {
     "end_time": "2020-11-04T16:46:28.793582Z",
     "start_time": "2020-11-04T16:46:24.326301Z"
    },
    "nbgrader": {
     "grade": false,
     "grade_id": "cell-4ab18aba8319e5bb",
     "locked": true,
     "schema_version": 3,
     "solution": false,
     "task": false
    }
   },
   "outputs": [],
   "source": [
    "# Run this cell without changes\n",
    "\n",
    "import matplotlib.pyplot as plt\n",
    "import seaborn as sns\n",
    "\n",
    "import numpy as np\n",
    "import pandas as pd\n",
    "from sklearn.metrics import accuracy_score\n",
    "from sklearn.model_selection import train_test_split\n",
    "\n",
    "import tensorflow as tf\n",
    "from tensorflow.keras import Sequential, regularizers\n",
    "from tensorflow.keras.layers import Dense, Dropout\n",
    "from scikeras.wrappers import KerasClassifier"
   ]
  },
  {
   "cell_type": "markdown",
   "metadata": {
    "nbgrader": {
     "grade": false,
     "grade_id": "cell-c7b992c89bbf7019",
     "locked": true,
     "schema_version": 3,
     "solution": false,
     "task": false
    }
   },
   "source": [
    "## 1) Prepare Data for Modeling\n",
    "\n",
    "* Using `pandas`, open the file `data.csv` as a DataFrame\n",
    "* Drop the `\"id\"` column, since this is a unique identifier and not a feature\n",
    "* Separate the data into `X` (a DataFrame with all columns except `\"target\"`) and `y` (a Series with just the `\"target\"` column)\n",
    "* The train-test split should work as-is once you create these variables"
   ]
  },
  {
   "cell_type": "code",
   "execution_count": 14,
   "metadata": {
    "nbgrader": {
     "grade": false,
     "grade_id": "cell-d01723acad72a02e",
     "locked": false,
     "schema_version": 3,
     "solution": true,
     "task": false
    }
   },
   "outputs": [],
   "source": [
    "# Replace None with appropriate code\n",
    "\n",
    "# Read in the data\n",
    "df = pd.read_csv('data.csv')\n",
    "\n",
    "# Drop the \"id\" column\n",
    "df = df.drop(['id'],axis=1)\n",
    "\n",
    "# Separate into X and y\n",
    "X = df.drop(['target'],axis=1)\n",
    "y = df['target']\n",
    "\n",
    "# Test/train split (set the random state to 2021) and check the X_Train shape\n",
    "X_train, X_test, y_train, y_test = train_test_split(X, y, random_state = 2021)"
   ]
  },
  {
   "cell_type": "code",
   "execution_count": 16,
   "metadata": {},
   "outputs": [],
   "source": [
    "# Run this code block without any changes\n",
    "\n",
    "# Assert\n",
    "\n",
    "assert type(df) == pd.DataFrame\n",
    "assert type(X) == pd.DataFrame\n",
    "assert type(y) == pd.Series\n",
    "\n",
    "assert X_train.shape == (187, 300)\n",
    "assert y_train.shape == (187,)"
   ]
  },
  {
   "cell_type": "markdown",
   "metadata": {
    "nbgrader": {
     "grade": false,
     "grade_id": "cell-2aa2425f887ac9b0",
     "locked": true,
     "schema_version": 3,
     "solution": false,
     "task": false
    }
   },
   "source": [
    "## 2) Instantiate a `Sequential` Model\n",
    "\n",
    "In the cell below, create an instance of a `Sequential` model ([documentation here](https://keras.io/guides/sequential_model/)) called `dense_model` with a `name` of `\"dense\"` and otherwise default arguments.\n",
    "\n",
    "*In other words, create a model without any layers. We will add layers in a future step.*"
   ]
  },
  {
   "cell_type": "code",
   "execution_count": 18,
   "metadata": {
    "nbgrader": {
     "grade": false,
     "grade_id": "cell-6c7980c4f4e802ae",
     "locked": false,
     "schema_version": 3,
     "solution": true,
     "task": false
    }
   },
   "outputs": [],
   "source": [
    "# Replace None with appropriate code\n",
    "\n",
    "dense_model = Sequential(name='dense')"
   ]
  },
  {
   "cell_type": "code",
   "execution_count": 20,
   "metadata": {
    "nbgrader": {
     "grade": true,
     "grade_id": "cell-4019299c1abee581",
     "locked": true,
     "points": 1,
     "schema_version": 3,
     "solution": false,
     "task": false
    }
   },
   "outputs": [],
   "source": [
    "# Run this code without change\n",
    "\n",
    "# Assert\n",
    "\n",
    "assert len(dense_model.layers) == 0\n",
    "assert type(dense_model) == Sequential\n",
    "assert dense_model.name == \"dense\"\n"
   ]
  },
  {
   "cell_type": "markdown",
   "metadata": {
    "nbgrader": {
     "grade": false,
     "grade_id": "cell-b777879670a57fbf",
     "locked": true,
     "schema_version": 3,
     "solution": false,
     "task": false
    }
   },
   "source": [
    "## 3) Determine Input and Output Shapes\n",
    "\n",
    "How many input and output nodes should this model have?\n",
    "\n",
    "Feel free to explore the attributes of `X` and `y` to determine this answer, or just to enter numbers based on the problem description above."
   ]
  },
  {
   "cell_type": "code",
   "execution_count": 22,
   "metadata": {
    "nbgrader": {
     "grade": false,
     "grade_id": "cell-63ba55e28070fbb7",
     "locked": false,
     "schema_version": 3,
     "solution": true,
     "task": false
    }
   },
   "outputs": [],
   "source": [
    "# Replace None with appropriate code\n",
    "\n",
    "num_input_nodes = 300\n",
    "num_output_nodes = 1"
   ]
  },
  {
   "cell_type": "code",
   "execution_count": 24,
   "metadata": {
    "nbgrader": {
     "grade": true,
     "grade_id": "cell-f10eae123c0da13e",
     "locked": true,
     "points": 1,
     "schema_version": 3,
     "solution": false,
     "task": false
    }
   },
   "outputs": [
    {
     "data": {
      "text/plain": [
       "1.0"
      ]
     },
     "execution_count": 24,
     "metadata": {},
     "output_type": "execute_result"
    }
   ],
   "source": [
    "# Run this code without change\n",
    "\n",
    "# Both values should be integers\n",
    "assert type(num_input_nodes) == int\n",
    "assert type(num_output_nodes) == int\n",
    "\n",
    "score = 0\n",
    "\n",
    "# 300 features, so 300 input nodes\n",
    "if num_input_nodes == 300:\n",
    "    score += 0.5\n",
    "    \n",
    "# binary output, so 1 output node\n",
    "if num_output_nodes == 1:\n",
    "    score += 0.5\n",
    "elif num_output_nodes == 2:\n",
    "    # Partial credit for this answer, since it's technically\n",
    "    # possible to use 2 output nodes for this, although it's\n",
    "    # confusingly redundant\n",
    "    score += 0.25\n",
    "\n",
    "score"
   ]
  },
  {
   "cell_type": "markdown",
   "metadata": {
    "nbgrader": {
     "grade": false,
     "grade_id": "cell-1a3c44e684a51352",
     "locked": true,
     "schema_version": 3,
     "solution": false,
     "task": false
    }
   },
   "source": [
    "The code below will use the input and output shapes you specified to add `Dense` layers to the model:"
   ]
  },
  {
   "cell_type": "code",
   "execution_count": 26,
   "metadata": {},
   "outputs": [
    {
     "name": "stderr",
     "output_type": "stream",
     "text": [
      "C:\\Users\\adapaul\\AppData\\Local\\anaconda3\\Lib\\site-packages\\keras\\src\\layers\\core\\dense.py:87: UserWarning: Do not pass an `input_shape`/`input_dim` argument to a layer. When using Sequential models, prefer using an `Input(shape)` object as the first layer in the model instead.\n",
      "  super().__init__(activity_regularizer=activity_regularizer, **kwargs)\n"
     ]
    },
    {
     "data": {
      "text/plain": [
       "[<Dense name=dense, built=True>,\n",
       " <Dense name=dense_1, built=True>,\n",
       " <Dense name=dense_2, built=True>]"
      ]
     },
     "execution_count": 26,
     "metadata": {},
     "output_type": "execute_result"
    }
   ],
   "source": [
    "# Run this cell without changes\n",
    "\n",
    "# Add input layer\n",
    "dense_model.add(Dense(units=64, input_shape=(num_input_nodes,)))\n",
    "\n",
    "# Add hidden layers\n",
    "dense_model.add(Dense(units=64))\n",
    "dense_model.add(Dense(units=64))\n",
    "\n",
    "dense_model.layers"
   ]
  },
  {
   "cell_type": "markdown",
   "metadata": {
    "nbgrader": {
     "grade": false,
     "grade_id": "cell-8505e21901e1e252",
     "locked": true,
     "schema_version": 3,
     "solution": false,
     "task": false
    }
   },
   "source": [
    "## 4) Add an Output Layer\n",
    "\n",
    "Specify an appropriate activation function ([documentation here](https://keras.io/api/layers/activations/)).\n",
    "\n",
    "We'll simplify the problem by specifying that you should use the string identifier for the function, and it should be one of these options:\n",
    "\n",
    "* `sigmoid`\n",
    "* `softmax`\n",
    "\n",
    "***Hint:*** is this a binary or a multi-class problem? This should guide your choice of activation function."
   ]
  },
  {
   "cell_type": "code",
   "execution_count": 28,
   "metadata": {
    "nbgrader": {
     "grade": false,
     "grade_id": "cell-0aeea3d8ccac319e",
     "locked": false,
     "schema_version": 3,
     "solution": true,
     "task": false
    }
   },
   "outputs": [],
   "source": [
    "# Replace None with appropriate code\n",
    "\n",
    "activation_function = 'sigmoid'"
   ]
  },
  {
   "cell_type": "code",
   "execution_count": 30,
   "metadata": {
    "nbgrader": {
     "grade": true,
     "grade_id": "cell-332525f03472a594",
     "locked": true,
     "points": 1,
     "schema_version": 3,
     "solution": false,
     "task": false
    }
   },
   "outputs": [],
   "source": [
    "# Run this cell without changes\n",
    "\n",
    "# activation_function should be a string\n",
    "assert type(activation_function) == str\n",
    "\n",
    "if num_output_nodes == 1:\n",
    "    assert activation_function == \"sigmoid\"\n",
    "else:\n",
    "    # The number of output nodes _should_ be 1, but we'll\n",
    "    # give credit for a matching function even if the\n",
    "    # previous answer was incorrect\n",
    "    assert activation_function == \"softmax\""
   ]
  },
  {
   "cell_type": "markdown",
   "metadata": {
    "nbgrader": {
     "grade": false,
     "grade_id": "cell-5c793011c6345392",
     "locked": true,
     "schema_version": 3,
     "solution": false,
     "task": false
    }
   },
   "source": [
    "Now we'll use that information to finalize the model.\n",
    "\n",
    "If this code produces an error, consider restarting the kernel and re-running the code above. If it still produces an error, that is an indication that one or more of your answers above is incorrect."
   ]
  },
  {
   "cell_type": "code",
   "execution_count": 32,
   "metadata": {
    "nbgrader": {
     "grade": false,
     "grade_id": "cell-e04042f44ccb24bb",
     "locked": true,
     "schema_version": 3,
     "solution": false,
     "task": false
    }
   },
   "outputs": [
    {
     "data": {
      "text/html": [
       "<pre style=\"white-space:pre;overflow-x:auto;line-height:normal;font-family:Menlo,'DejaVu Sans Mono',consolas,'Courier New',monospace\"><span style=\"font-weight: bold\">Model: \"dense\"</span>\n",
       "</pre>\n"
      ],
      "text/plain": [
       "\u001b[1mModel: \"dense\"\u001b[0m\n"
      ]
     },
     "metadata": {},
     "output_type": "display_data"
    },
    {
     "data": {
      "text/html": [
       "<pre style=\"white-space:pre;overflow-x:auto;line-height:normal;font-family:Menlo,'DejaVu Sans Mono',consolas,'Courier New',monospace\">┏━━━━━━━━━━━━━━━━━━━━━━━━━━━━━━━━━━━━━━┳━━━━━━━━━━━━━━━━━━━━━━━━━━━━━┳━━━━━━━━━━━━━━━━━┓\n",
       "┃<span style=\"font-weight: bold\"> Layer (type)                         </span>┃<span style=\"font-weight: bold\"> Output Shape                </span>┃<span style=\"font-weight: bold\">         Param # </span>┃\n",
       "┡━━━━━━━━━━━━━━━━━━━━━━━━━━━━━━━━━━━━━━╇━━━━━━━━━━━━━━━━━━━━━━━━━━━━━╇━━━━━━━━━━━━━━━━━┩\n",
       "│ dense (<span style=\"color: #0087ff; text-decoration-color: #0087ff\">Dense</span>)                        │ (<span style=\"color: #00d7ff; text-decoration-color: #00d7ff\">None</span>, <span style=\"color: #00af00; text-decoration-color: #00af00\">64</span>)                  │          <span style=\"color: #00af00; text-decoration-color: #00af00\">19,264</span> │\n",
       "├──────────────────────────────────────┼─────────────────────────────┼─────────────────┤\n",
       "│ dense_1 (<span style=\"color: #0087ff; text-decoration-color: #0087ff\">Dense</span>)                      │ (<span style=\"color: #00d7ff; text-decoration-color: #00d7ff\">None</span>, <span style=\"color: #00af00; text-decoration-color: #00af00\">64</span>)                  │           <span style=\"color: #00af00; text-decoration-color: #00af00\">4,160</span> │\n",
       "├──────────────────────────────────────┼─────────────────────────────┼─────────────────┤\n",
       "│ dense_2 (<span style=\"color: #0087ff; text-decoration-color: #0087ff\">Dense</span>)                      │ (<span style=\"color: #00d7ff; text-decoration-color: #00d7ff\">None</span>, <span style=\"color: #00af00; text-decoration-color: #00af00\">64</span>)                  │           <span style=\"color: #00af00; text-decoration-color: #00af00\">4,160</span> │\n",
       "├──────────────────────────────────────┼─────────────────────────────┼─────────────────┤\n",
       "│ dense_3 (<span style=\"color: #0087ff; text-decoration-color: #0087ff\">Dense</span>)                      │ (<span style=\"color: #00d7ff; text-decoration-color: #00d7ff\">None</span>, <span style=\"color: #00af00; text-decoration-color: #00af00\">1</span>)                   │              <span style=\"color: #00af00; text-decoration-color: #00af00\">65</span> │\n",
       "└──────────────────────────────────────┴─────────────────────────────┴─────────────────┘\n",
       "</pre>\n"
      ],
      "text/plain": [
       "┏━━━━━━━━━━━━━━━━━━━━━━━━━━━━━━━━━━━━━━┳━━━━━━━━━━━━━━━━━━━━━━━━━━━━━┳━━━━━━━━━━━━━━━━━┓\n",
       "┃\u001b[1m \u001b[0m\u001b[1mLayer (type)                        \u001b[0m\u001b[1m \u001b[0m┃\u001b[1m \u001b[0m\u001b[1mOutput Shape               \u001b[0m\u001b[1m \u001b[0m┃\u001b[1m \u001b[0m\u001b[1m        Param #\u001b[0m\u001b[1m \u001b[0m┃\n",
       "┡━━━━━━━━━━━━━━━━━━━━━━━━━━━━━━━━━━━━━━╇━━━━━━━━━━━━━━━━━━━━━━━━━━━━━╇━━━━━━━━━━━━━━━━━┩\n",
       "│ dense (\u001b[38;5;33mDense\u001b[0m)                        │ (\u001b[38;5;45mNone\u001b[0m, \u001b[38;5;34m64\u001b[0m)                  │          \u001b[38;5;34m19,264\u001b[0m │\n",
       "├──────────────────────────────────────┼─────────────────────────────┼─────────────────┤\n",
       "│ dense_1 (\u001b[38;5;33mDense\u001b[0m)                      │ (\u001b[38;5;45mNone\u001b[0m, \u001b[38;5;34m64\u001b[0m)                  │           \u001b[38;5;34m4,160\u001b[0m │\n",
       "├──────────────────────────────────────┼─────────────────────────────┼─────────────────┤\n",
       "│ dense_2 (\u001b[38;5;33mDense\u001b[0m)                      │ (\u001b[38;5;45mNone\u001b[0m, \u001b[38;5;34m64\u001b[0m)                  │           \u001b[38;5;34m4,160\u001b[0m │\n",
       "├──────────────────────────────────────┼─────────────────────────────┼─────────────────┤\n",
       "│ dense_3 (\u001b[38;5;33mDense\u001b[0m)                      │ (\u001b[38;5;45mNone\u001b[0m, \u001b[38;5;34m1\u001b[0m)                   │              \u001b[38;5;34m65\u001b[0m │\n",
       "└──────────────────────────────────────┴─────────────────────────────┴─────────────────┘\n"
      ]
     },
     "metadata": {},
     "output_type": "display_data"
    },
    {
     "data": {
      "text/html": [
       "<pre style=\"white-space:pre;overflow-x:auto;line-height:normal;font-family:Menlo,'DejaVu Sans Mono',consolas,'Courier New',monospace\"><span style=\"font-weight: bold\"> Total params: </span><span style=\"color: #00af00; text-decoration-color: #00af00\">27,649</span> (108.00 KB)\n",
       "</pre>\n"
      ],
      "text/plain": [
       "\u001b[1m Total params: \u001b[0m\u001b[38;5;34m27,649\u001b[0m (108.00 KB)\n"
      ]
     },
     "metadata": {},
     "output_type": "display_data"
    },
    {
     "data": {
      "text/html": [
       "<pre style=\"white-space:pre;overflow-x:auto;line-height:normal;font-family:Menlo,'DejaVu Sans Mono',consolas,'Courier New',monospace\"><span style=\"font-weight: bold\"> Trainable params: </span><span style=\"color: #00af00; text-decoration-color: #00af00\">27,649</span> (108.00 KB)\n",
       "</pre>\n"
      ],
      "text/plain": [
       "\u001b[1m Trainable params: \u001b[0m\u001b[38;5;34m27,649\u001b[0m (108.00 KB)\n"
      ]
     },
     "metadata": {},
     "output_type": "display_data"
    },
    {
     "data": {
      "text/html": [
       "<pre style=\"white-space:pre;overflow-x:auto;line-height:normal;font-family:Menlo,'DejaVu Sans Mono',consolas,'Courier New',monospace\"><span style=\"font-weight: bold\"> Non-trainable params: </span><span style=\"color: #00af00; text-decoration-color: #00af00\">0</span> (0.00 B)\n",
       "</pre>\n"
      ],
      "text/plain": [
       "\u001b[1m Non-trainable params: \u001b[0m\u001b[38;5;34m0\u001b[0m (0.00 B)\n"
      ]
     },
     "metadata": {},
     "output_type": "display_data"
    }
   ],
   "source": [
    "# Run this cell without changes\n",
    "\n",
    "# Add output layer\n",
    "dense_model.add(Dense(units=num_output_nodes, activation=activation_function))\n",
    "\n",
    "# Determine appropriate loss function\n",
    "if num_output_nodes == 1:\n",
    "    loss = \"binary_crossentropy\"\n",
    "else:\n",
    "    loss = \"categorical_crossentropy\"\n",
    "\n",
    "# Compile model\n",
    "dense_model.compile(\n",
    "    optimizer=\"adam\",\n",
    "    loss=loss,\n",
    "    metrics=[\"accuracy\"]\n",
    ")\n",
    "\n",
    "dense_model.summary()"
   ]
  },
  {
   "cell_type": "code",
   "execution_count": 34,
   "metadata": {
    "nbgrader": {
     "grade": false,
     "grade_id": "cell-d54efbf306c08d85",
     "locked": true,
     "schema_version": 3,
     "solution": false,
     "task": false
    }
   },
   "outputs": [
    {
     "name": "stdout",
     "output_type": "stream",
     "text": [
      "Epoch 1/5\n",
      "\u001b[1m12/12\u001b[0m \u001b[32m━━━━━━━━━━━━━━━━━━━━\u001b[0m\u001b[37m\u001b[0m \u001b[1m1s\u001b[0m 31ms/step - accuracy: 0.4417 - loss: 1.0775 - val_accuracy: 0.6133 - val_loss: 0.7947\n",
      "Epoch 2/5\n",
      "\u001b[1m12/12\u001b[0m \u001b[32m━━━━━━━━━━━━━━━━━━━━\u001b[0m\u001b[37m\u001b[0m \u001b[1m0s\u001b[0m 4ms/step - accuracy: 0.7890 - loss: 0.5201 - val_accuracy: 0.6133 - val_loss: 0.7502\n",
      "Epoch 3/5\n",
      "\u001b[1m12/12\u001b[0m \u001b[32m━━━━━━━━━━━━━━━━━━━━\u001b[0m\u001b[37m\u001b[0m \u001b[1m0s\u001b[0m 4ms/step - accuracy: 0.9069 - loss: 0.2774 - val_accuracy: 0.6000 - val_loss: 0.8043\n",
      "Epoch 4/5\n",
      "\u001b[1m12/12\u001b[0m \u001b[32m━━━━━━━━━━━━━━━━━━━━\u001b[0m\u001b[37m\u001b[0m \u001b[1m0s\u001b[0m 4ms/step - accuracy: 0.9922 - loss: 0.1440 - val_accuracy: 0.6667 - val_loss: 0.8912\n",
      "Epoch 5/5\n",
      "\u001b[1m12/12\u001b[0m \u001b[32m━━━━━━━━━━━━━━━━━━━━\u001b[0m\u001b[37m\u001b[0m \u001b[1m0s\u001b[0m 4ms/step - accuracy: 1.0000 - loss: 0.0692 - val_accuracy: 0.6533 - val_loss: 0.9890\n"
     ]
    }
   ],
   "source": [
    "# Replace None as necessary\n",
    "\n",
    "# Fit the model to the training data, using a subset of the\n",
    "# training data as validation data\n",
    "dense_model_results = dense_model.fit(\n",
    "    x= X_train,\n",
    "    y= y_train,\n",
    "    batch_size=10,\n",
    "    epochs=5,\n",
    "    verbose=True,\n",
    "    validation_split=0.4,\n",
    "    shuffle=True\n",
    ")"
   ]
  },
  {
   "cell_type": "code",
   "execution_count": 35,
   "metadata": {
    "nbgrader": {
     "grade": false,
     "grade_id": "cell-0639b5c80e98ab40",
     "locked": true,
     "schema_version": 3,
     "solution": false,
     "task": false
    }
   },
   "outputs": [
    {
     "data": {
      "image/png": "[encoded data removed]",
      "text/plain": [
       "<Figure size 1000x500 with 2 Axes>"
      ]
     },
     "metadata": {},
     "output_type": "display_data"
    }
   ],
   "source": [
    "# Run this cell without changes\n",
    "\n",
    "def plot_loss_and_accuracy(results, final=False):\n",
    "    \n",
    "    if final:\n",
    "        val_label=\"test\"\n",
    "    else:\n",
    "        val_label=\"validation\"\n",
    "\n",
    "    # Extracting metrics from model fitting\n",
    "    train_loss = results.history['loss']\n",
    "    val_loss = results.history['val_loss']\n",
    "    train_accuracy = results.history['accuracy']\n",
    "    val_accuracy = results.history['val_accuracy']\n",
    "\n",
    "    # Setting up plots\n",
    "    fig, (ax1, ax2) = plt.subplots(1, 2, figsize=(10, 5))\n",
    "\n",
    "    # Plotting loss info\n",
    "    ax1.set_title(\"Loss\")\n",
    "    sns.lineplot(x=results.epoch, y=train_loss, ax=ax1, label=\"train\")\n",
    "    sns.lineplot(x=results.epoch, y=val_loss, ax=ax1, label=val_label)\n",
    "    ax1.legend()\n",
    "\n",
    "    # Plotting accuracy info\n",
    "    ax2.set_title(\"Accuracy\")\n",
    "    sns.lineplot(x=results.epoch, y=train_accuracy, ax=ax2, label=\"train\")\n",
    "    sns.lineplot(x=results.epoch, y=val_accuracy, ax=ax2, label=val_label)\n",
    "    ax2.legend()\n",
    "    \n",
    "plot_loss_and_accuracy(dense_model_results)"
   ]
  },
  {
   "cell_type": "markdown",
   "metadata": {
    "nbgrader": {
     "grade": false,
     "grade_id": "cell-3ee94fdb73f6a0bd",
     "locked": true,
     "schema_version": 3,
     "solution": false,
     "task": false
    }
   },
   "source": [
    "## 5) Modify the Code Below to Use Regularization\n",
    "\n",
    "\n",
    "The model appears to be overfitting. To deal with this overfitting, modify the code below to include regularization in the model. You can add L1, L2, both L1 and L2, or dropout regularization.\n",
    "\n",
    "Hint: these might be helpful\n",
    "\n",
    " - [`Dense` layer documentation](https://keras.io/api/layers/core_layers/dense/)\n",
    " - [`regularizers` documentation](https://keras.io/regularizers/)\n",
    " \n",
    "(`EarlyStopping` is a type of regularization that is not applicable to this problem framing, since it's a callback and not a layer.)"
   ]
  },
  {
   "cell_type": "code",
   "execution_count": 40,
   "metadata": {
    "ExecuteTime": {
     "end_time": "2020-11-04T16:48:46.721530Z",
     "start_time": "2020-11-04T16:48:46.715001Z"
    },
    "nbgrader": {
     "grade": false,
     "grade_id": "cell-143a65663b1d4c26",
     "locked": false,
     "schema_version": 3,
     "solution": true,
     "task": false
    }
   },
   "outputs": [
    {
     "name": "stderr",
     "output_type": "stream",
     "text": [
      "C:\\Users\\adapaul\\AppData\\Local\\anaconda3\\Lib\\site-packages\\keras\\src\\layers\\core\\dense.py:87: UserWarning: Do not pass an `input_shape`/`input_dim` argument to a layer. When using Sequential models, prefer using an `Input(shape)` object as the first layer in the model instead.\n",
      "  super().__init__(activity_regularizer=activity_regularizer, **kwargs)\n"
     ]
    },
    {
     "data": {
      "text/html": [
       "<pre style=\"white-space:pre;overflow-x:auto;line-height:normal;font-family:Menlo,'DejaVu Sans Mono',consolas,'Courier New',monospace\"><span style=\"font-weight: bold\">Model: \"regularized\"</span>\n",
       "</pre>\n"
      ],
      "text/plain": [
       "\u001b[1mModel: \"regularized\"\u001b[0m\n"
      ]
     },
     "metadata": {},
     "output_type": "display_data"
    },
    {
     "data": {
      "text/html": [
       "<pre style=\"white-space:pre;overflow-x:auto;line-height:normal;font-family:Menlo,'DejaVu Sans Mono',consolas,'Courier New',monospace\">┏━━━━━━━━━━━━━━━━━━━━━━━━━━━━━━━━━━━━━━┳━━━━━━━━━━━━━━━━━━━━━━━━━━━━━┳━━━━━━━━━━━━━━━━━┓\n",
       "┃<span style=\"font-weight: bold\"> Layer (type)                         </span>┃<span style=\"font-weight: bold\"> Output Shape                </span>┃<span style=\"font-weight: bold\">         Param # </span>┃\n",
       "┡━━━━━━━━━━━━━━━━━━━━━━━━━━━━━━━━━━━━━━╇━━━━━━━━━━━━━━━━━━━━━━━━━━━━━╇━━━━━━━━━━━━━━━━━┩\n",
       "│ dense_4 (<span style=\"color: #0087ff; text-decoration-color: #0087ff\">Dense</span>)                      │ (<span style=\"color: #00d7ff; text-decoration-color: #00d7ff\">None</span>, <span style=\"color: #00af00; text-decoration-color: #00af00\">64</span>)                  │          <span style=\"color: #00af00; text-decoration-color: #00af00\">19,264</span> │\n",
       "├──────────────────────────────────────┼─────────────────────────────┼─────────────────┤\n",
       "│ dense_5 (<span style=\"color: #0087ff; text-decoration-color: #0087ff\">Dense</span>)                      │ (<span style=\"color: #00d7ff; text-decoration-color: #00d7ff\">None</span>, <span style=\"color: #00af00; text-decoration-color: #00af00\">64</span>)                  │           <span style=\"color: #00af00; text-decoration-color: #00af00\">4,160</span> │\n",
       "├──────────────────────────────────────┼─────────────────────────────┼─────────────────┤\n",
       "│ dense_6 (<span style=\"color: #0087ff; text-decoration-color: #0087ff\">Dense</span>)                      │ (<span style=\"color: #00d7ff; text-decoration-color: #00d7ff\">None</span>, <span style=\"color: #00af00; text-decoration-color: #00af00\">1</span>)                   │              <span style=\"color: #00af00; text-decoration-color: #00af00\">65</span> │\n",
       "└──────────────────────────────────────┴─────────────────────────────┴─────────────────┘\n",
       "</pre>\n"
      ],
      "text/plain": [
       "┏━━━━━━━━━━━━━━━━━━━━━━━━━━━━━━━━━━━━━━┳━━━━━━━━━━━━━━━━━━━━━━━━━━━━━┳━━━━━━━━━━━━━━━━━┓\n",
       "┃\u001b[1m \u001b[0m\u001b[1mLayer (type)                        \u001b[0m\u001b[1m \u001b[0m┃\u001b[1m \u001b[0m\u001b[1mOutput Shape               \u001b[0m\u001b[1m \u001b[0m┃\u001b[1m \u001b[0m\u001b[1m        Param #\u001b[0m\u001b[1m \u001b[0m┃\n",
       "┡━━━━━━━━━━━━━━━━━━━━━━━━━━━━━━━━━━━━━━╇━━━━━━━━━━━━━━━━━━━━━━━━━━━━━╇━━━━━━━━━━━━━━━━━┩\n",
       "│ dense_4 (\u001b[38;5;33mDense\u001b[0m)                      │ (\u001b[38;5;45mNone\u001b[0m, \u001b[38;5;34m64\u001b[0m)                  │          \u001b[38;5;34m19,264\u001b[0m │\n",
       "├──────────────────────────────────────┼─────────────────────────────┼─────────────────┤\n",
       "│ dense_5 (\u001b[38;5;33mDense\u001b[0m)                      │ (\u001b[38;5;45mNone\u001b[0m, \u001b[38;5;34m64\u001b[0m)                  │           \u001b[38;5;34m4,160\u001b[0m │\n",
       "├──────────────────────────────────────┼─────────────────────────────┼─────────────────┤\n",
       "│ dense_6 (\u001b[38;5;33mDense\u001b[0m)                      │ (\u001b[38;5;45mNone\u001b[0m, \u001b[38;5;34m1\u001b[0m)                   │              \u001b[38;5;34m65\u001b[0m │\n",
       "└──────────────────────────────────────┴─────────────────────────────┴─────────────────┘\n"
      ]
     },
     "metadata": {},
     "output_type": "display_data"
    },
    {
     "data": {
      "text/html": [
       "<pre style=\"white-space:pre;overflow-x:auto;line-height:normal;font-family:Menlo,'DejaVu Sans Mono',consolas,'Courier New',monospace\"><span style=\"font-weight: bold\"> Total params: </span><span style=\"color: #00af00; text-decoration-color: #00af00\">23,489</span> (91.75 KB)\n",
       "</pre>\n"
      ],
      "text/plain": [
       "\u001b[1m Total params: \u001b[0m\u001b[38;5;34m23,489\u001b[0m (91.75 KB)\n"
      ]
     },
     "metadata": {},
     "output_type": "display_data"
    },
    {
     "data": {
      "text/html": [
       "<pre style=\"white-space:pre;overflow-x:auto;line-height:normal;font-family:Menlo,'DejaVu Sans Mono',consolas,'Courier New',monospace\"><span style=\"font-weight: bold\"> Trainable params: </span><span style=\"color: #00af00; text-decoration-color: #00af00\">23,489</span> (91.75 KB)\n",
       "</pre>\n"
      ],
      "text/plain": [
       "\u001b[1m Trainable params: \u001b[0m\u001b[38;5;34m23,489\u001b[0m (91.75 KB)\n"
      ]
     },
     "metadata": {},
     "output_type": "display_data"
    },
    {
     "data": {
      "text/html": [
       "<pre style=\"white-space:pre;overflow-x:auto;line-height:normal;font-family:Menlo,'DejaVu Sans Mono',consolas,'Courier New',monospace\"><span style=\"font-weight: bold\"> Non-trainable params: </span><span style=\"color: #00af00; text-decoration-color: #00af00\">0</span> (0.00 B)\n",
       "</pre>\n"
      ],
      "text/plain": [
       "\u001b[1m Non-trainable params: \u001b[0m\u001b[38;5;34m0\u001b[0m (0.00 B)\n"
      ]
     },
     "metadata": {},
     "output_type": "display_data"
    }
   ],
   "source": [
    "# Complete the following code\n",
    "\n",
    "def build_model_with_regularization(n_input, n_output, activation, loss):\n",
    "    \"\"\"\n",
    "    Creates and compiles a tf.keras Sequential model with two hidden layers\n",
    "    This time regularization has been added\n",
    "    \"\"\"\n",
    "    # create classifier\n",
    "    classifier = Sequential(name=\"regularized\")\n",
    "\n",
    "    # add input layer\n",
    "    classifier.add(Dense(units=64, input_shape=(n_input,)))\n",
    "\n",
    "    # add hidden layers\n",
    "    classifier.add(Dense(units=64,\n",
    "    kernel_regularizer=regularizers.L1L2(l1=1e-5, l2=1e-4),\n",
    "    bias_regularizer=regularizers.L2(1e-4),\n",
    "    activity_regularizer=regularizers.L2(1e-5)))\n",
    "\n",
    "    # add output layer\n",
    "    classifier.add(Dense(1))\n",
    "\n",
    "    classifier.compile(optimizer='adam', loss=loss, metrics=['accuracy'])\n",
    "    return classifier\n",
    "\n",
    "model_with_regularization = build_model_with_regularization(\n",
    "    num_input_nodes, num_output_nodes, activation_function, loss\n",
    ")\n",
    "model_with_regularization.summary()"
   ]
  },
  {
   "cell_type": "code",
   "execution_count": 42,
   "metadata": {
    "ExecuteTime": {
     "end_time": "2020-11-04T16:48:47.310049Z",
     "start_time": "2020-11-04T16:48:47.265185Z"
    },
    "code_folding": [],
    "nbgrader": {
     "grade": true,
     "grade_id": "cell-45429cad9bc0ca12",
     "locked": true,
     "points": 1,
     "schema_version": 3,
     "solution": false,
     "task": false
    }
   },
   "outputs": [
    {
     "data": {
      "text/plain": [
       "1.0"
      ]
     },
     "execution_count": 42,
     "metadata": {},
     "output_type": "execute_result"
    }
   ],
   "source": [
    "# Run the code below without change\n",
    "\n",
    "# Testing function to build model\n",
    "assert type(model_with_regularization) == Sequential\n",
    "\n",
    "def check_regularization(model):\n",
    "    regularization_count = 0\n",
    "    for layer in model.get_config()['layers']:\n",
    "        \n",
    "        # Checking if kernel regularizer was specified\n",
    "        if 'kernel_regularizer' in layer['config']:\n",
    "            if layer['config'].get('kernel_regularizer'):\n",
    "                regularization_count += 1\n",
    "                \n",
    "        # Checking if layer is dropout layer\n",
    "        if layer[\"class_name\"] == \"Dropout\":\n",
    "            regularization_count += 1\n",
    "            \n",
    "    return regularization_count > 0\n",
    "    \n",
    "score = .3\n",
    "\n",
    "if check_regularization(model_with_regularization):\n",
    "    score += .7\n",
    "    \n",
    "score"
   ]
  },
  {
   "cell_type": "markdown",
   "metadata": {
    "nbgrader": {
     "grade": false,
     "grade_id": "cell-b13c2342c3515ca5",
     "locked": true,
     "schema_version": 3,
     "solution": false,
     "task": false
    }
   },
   "source": [
    "Now we'll evaluate the new model on the training set as well:"
   ]
  },
  {
   "cell_type": "code",
   "execution_count": 44,
   "metadata": {
    "nbgrader": {
     "grade": false,
     "grade_id": "cell-87e75ce032ca5468",
     "locked": true,
     "schema_version": 3,
     "solution": false,
     "task": false
    }
   },
   "outputs": [
    {
     "data": {
      "image/png": "[encoded data removed]",
      "text/plain": [
       "<Figure size 1000x500 with 2 Axes>"
      ]
     },
     "metadata": {},
     "output_type": "display_data"
    }
   ],
   "source": [
    "# Run this cell without changes\n",
    "\n",
    "# Fit the model to the training data, using a subset of the\n",
    "# training data as validation data\n",
    "reg_model_results = model_with_regularization.fit(\n",
    "    x=X_train,\n",
    "    y=y_train,\n",
    "    batch_size=None,\n",
    "    epochs=20,\n",
    "    verbose=0,\n",
    "    validation_split=0.4,\n",
    "    shuffle=False\n",
    ")\n",
    "\n",
    "plot_loss_and_accuracy(reg_model_results)"
   ]
  },
  {
   "cell_type": "markdown",
   "metadata": {
    "nbgrader": {
     "grade": false,
     "grade_id": "cell-cdcc2db42e9c92a2",
     "locked": true,
     "schema_version": 3,
     "solution": false,
     "task": false
    }
   },
   "source": [
    "(Whether or not your regularization made a difference will partially depend on how strong of regularization you applied, as well as some random elements of your current TensorFlow configuration.)\n",
    "\n",
    "Now we evaluate both models on the holdout set:"
   ]
  },
  {
   "cell_type": "code",
   "execution_count": 46,
   "metadata": {},
   "outputs": [
    {
     "data": {
      "image/png": "[encoded data removed]",
      "text/plain": [
       "<Figure size 1000x500 with 2 Axes>"
      ]
     },
     "metadata": {},
     "output_type": "display_data"
    }
   ],
   "source": [
    "# Run this cell without changes\n",
    "\n",
    "final_dense_model_results = dense_model.fit(\n",
    "    x=X_train,\n",
    "    y=y_train,\n",
    "    batch_size=None,\n",
    "    epochs=20,\n",
    "    verbose=0,\n",
    "    validation_data=(X_test, y_test),\n",
    "    shuffle=False\n",
    ")\n",
    "\n",
    "plot_loss_and_accuracy(final_dense_model_results, final=True)"
   ]
  },
  {
   "cell_type": "markdown",
   "metadata": {},
   "source": [
    "Plot the loss and accuracy your final regularized model."
   ]
  },
  {
   "cell_type": "code",
   "execution_count": 48,
   "metadata": {},
   "outputs": [
    {
     "data": {
      "image/png": "[encoded data removed]",
      "text/plain": [
       "<Figure size 1000x500 with 2 Axes>"
      ]
     },
     "metadata": {},
     "output_type": "display_data"
    }
   ],
   "source": [
    "# Replace None, as necessary\n",
    "\n",
    "final_reg_model_results = model_with_regularization.fit(\n",
    "    x=X_train,\n",
    "    y=y_train,\n",
    "    batch_size=None,\n",
    "    epochs=20,\n",
    "    verbose=0,\n",
    "    validation_data=(X_test, y_test),\n",
    "    shuffle=False\n",
    ")\n",
    "\n",
    "plot_loss_and_accuracy(final_reg_model_results, final=True)"
   ]
  },
  {
   "cell_type": "code",
   "execution_count": null,
   "metadata": {},
   "outputs": [],
   "source": []
  }
 ],
 "metadata": {
  "celltoolbar": "Create Assignment",
  "kernelspec": {
   "display_name": "Python 3 (ipykernel)",
   "language": "python",
   "name": "python3"
  },
  "language_info": {
   "codemirror_mode": {
    "name": "ipython",
    "version": 3
   },
   "file_extension": ".py",
   "mimetype": "text/x-python",
   "name": "python",
   "nbconvert_exporter": "python",
   "pygments_lexer": "ipython3",
   "version": "3.12.4"
  },
  "toc": {
   "base_numbering": 1,
   "nav_menu": {},
   "number_sections": false,
   "sideBar": true,
   "skip_h1_title": true,
   "title_cell": "Table of Contents",
   "title_sidebar": "Contents",
   "toc_cell": false,
   "toc_position": {},
   "toc_section_display": true,
   "toc_window_display": false
  },
  "varInspector": {
   "cols": {
    "lenName": 16,
    "lenType": 16,
    "lenVar": 40
   },
   "kernels_config": {
    "python": {
     "delete_cmd_postfix": "",
     "delete_cmd_prefix": "del ",
     "library": "var_list.py",
     "varRefreshCmd": "print(var_dic_list())"
    },
    "r": {
     "delete_cmd_postfix": ") ",
     "delete_cmd_prefix": "rm(",
     "library": "var_list.r",
     "varRefreshCmd": "cat(var_dic_list()) "
    }
   },
   "types_to_exclude": [
    "module",
    "function",
    "builtin_function_or_method",
    "instance",
    "_Feature"
   ],
   "window_display": false
  }
 },
 "nbformat": 4,
 "nbformat_minor": 4
}
